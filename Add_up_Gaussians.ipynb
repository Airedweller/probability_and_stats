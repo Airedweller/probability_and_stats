{
 "cells": [
  {
   "cell_type": "markdown",
   "metadata": {},
   "source": [
    "# Adding up Normal Distributions to see fat-tails a-la Taleb\n",
    "\n",
    "From Nassim Nicholas Taleb's demonstration of fat tails from Gaussians in conversation with Stephen Wolfram: https://youtu.be/_8j1XZ0N_wE\n",
    "\n",
    "The idea is to add normal distributions with standard deviation 1+a and 1-a and vary a.\n"
   ]
  },
  {
   "cell_type": "markdown",
   "metadata": {},
   "source": [
    "### Import necessary modules"
   ]
  },
  {
   "cell_type": "code",
   "execution_count": 1,
   "metadata": {},
   "outputs": [],
   "source": [
    "import matplotlib.pyplot as plt\n",
    "import numpy as np\n",
    "from scipy.stats import norm\n",
    "\n",
    "from ipywidgets import interact"
   ]
  },
  {
   "cell_type": "code",
   "execution_count": 2,
   "metadata": {},
   "outputs": [
    {
     "name": "stdout",
     "output_type": "stream",
     "text": [
      "mean 0.0, var 1.0, skew 0.0, kurt 0.0\n"
     ]
    }
   ],
   "source": [
    "# In norm the location (loc) keyword specifies the mean. The scale (scale) keyword specifies the standard deviation.\n",
    "mean, var, skew, kurt = norm.stats(moments='mvsk')\n",
    "print(f'mean {mean}, var {var}, skew {skew}, kurt {kurt}')"
   ]
  },
  {
   "cell_type": "code",
   "execution_count": 3,
   "metadata": {},
   "outputs": [],
   "source": [
    "def gauss_sum(a):\n",
    "    \"\"\"\n",
    "    Sum two normal distributions with standard deviations 1+a and 1-a\n",
    "    \"\"\"\n",
    "    sum_a = 0.5*(norm.pdf(x, 0, 1+a) + norm.pdf(x, 0, 1-a))\n",
    "    return sum_a"
   ]
  },
  {
   "cell_type": "code",
   "execution_count": 4,
   "metadata": {},
   "outputs": [
    {
     "data": {
      "application/vnd.jupyter.widget-view+json": {
       "model_id": "892f4fc6b597442d95a41d91f28ec7e8",
       "version_major": 2,
       "version_minor": 0
      },
      "text/plain": [
       "interactive(children=(FloatSlider(value=0.4, description='a', max=0.9), Output()), _dom_classes=('widget-inter…"
      ]
     },
     "metadata": {},
     "output_type": "display_data"
    }
   ],
   "source": [
    "x = np.linspace(-4, 4, 100)\n",
    "\n",
    "def update(a):\n",
    "    \"\"\"Plot Gaussian with standard deviation 1 and sum of two Gaussians with std 1-a and 1+a\"\"\"\n",
    "    fig, ax = plt.subplots(1, 1)\n",
    "    ax.plot(x, norm.pdf(x, 0, 1), color='grey', alpha=0.4, label='std = 1')\n",
    "    ax.plot(x, gauss_sum(a), 'r-', lw=3, alpha=0.6, label='sum of Gaussians')\n",
    "    ax.legend()\n",
    "    ax.set_ylim(bottom=0, top=0.6)\n",
    "    \n",
    "interact(update, a=(0, 0.9, 0.1));"
   ]
  },
  {
   "cell_type": "code",
   "execution_count": null,
   "metadata": {},
   "outputs": [],
   "source": []
  }
 ],
 "metadata": {
  "kernelspec": {
   "display_name": "Python 3",
   "language": "python",
   "name": "python3"
  },
  "language_info": {
   "codemirror_mode": {
    "name": "ipython",
    "version": 3
   },
   "file_extension": ".py",
   "mimetype": "text/x-python",
   "name": "python",
   "nbconvert_exporter": "python",
   "pygments_lexer": "ipython3",
   "version": "3.7.6"
  }
 },
 "nbformat": 4,
 "nbformat_minor": 4
}
